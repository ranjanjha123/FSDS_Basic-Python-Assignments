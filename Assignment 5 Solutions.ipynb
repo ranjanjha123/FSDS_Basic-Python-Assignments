{
 "cells": [
  {
   "cell_type": "markdown",
   "metadata": {},
   "source": [
    "# Assignment 5 Solutions"
   ]
  },
  {
   "cell_type": "markdown",
   "metadata": {},
   "source": [
    "**1.What does an empty dictionary's code look like?**\n",
    "\n",
    "Ans: An empty dictionary is often represented by two empty curly brackets\n",
    "d = {} or d = dict()"
   ]
  },
  {
   "cell_type": "markdown",
   "metadata": {},
   "source": [
    "**2.what is the value of dictionary value with key 'foo' and the value 42 ?**\n",
    "\n",
    "Ans: {'foo':42}"
   ]
  },
  {
   "cell_type": "markdown",
   "metadata": {},
   "source": [
    "**3.What is the most significant distinction between a dictionary and a list?**\n",
    "\n",
    "\n",
    "Ans: Dictionaries are represented by {} where as listed are represented by []\n",
    "The Items stored in a dictionary are Unordered , while the items in a list are ordered"
   ]
  },
  {
   "cell_type": "markdown",
   "metadata": {},
   "source": [
    "**4.What happens if you try to access spam ['foo'] if spam is {'bar':100} ?**\n",
    "\n",
    "Ans: we will get a keyError KeyError: 'foo'"
   ]
  },
  {
   "cell_type": "markdown",
   "metadata": {},
   "source": [
    "**5.if a dictionary is stored in spam,what is the difference between the expressions 'cat' in spam and 'cat' in spam.keys() ?**\n",
    "\n",
    "\n",
    "Ans: There is no difference . The operator checks whether a value exits as a key in the dictionary or not"
   ]
  },
  {
   "cell_type": "markdown",
   "metadata": {},
   "source": [
    "**6.if a dictionary is stored in spam,what is the difference between the expressions 'cat' in spam and 'cat' in spam.values()**\n",
    "\n",
    "Ans:'cat' in spam checks whether there is a 'cat' key in the dictionary, while 'cat' in spam.values() checks whether there is a value 'cat' for one of the keys in spam."
   ]
  },
  {
   "cell_type": "markdown",
   "metadata": {},
   "source": [
    "**7.what is a shortcut for the following code ?**\n",
    "\n",
    "if 'color' not in spam:\n",
    "\n",
    "    spam['color'] ='black'\n",
    "\n",
    "Ans: spam.setdefault('color','black')"
   ]
  },
  {
   "cell_type": "markdown",
   "metadata": {},
   "source": [
    "**8.How do you 'pretty print' dictionary values using which modules and function ?**\n",
    "\n",
    "Ans: we can pretty print a dictionary using three functions\n",
    "\n",
    "by using pprint() function of pprint module\n",
    "Note: pprint() function doesnot prettify nested dictionaries\n",
    "by using dumps() method of json module\n",
    "by using dumps() method of yaml module"
   ]
  },
  {
   "cell_type": "code",
   "execution_count": 1,
   "metadata": {},
   "outputs": [
    {
     "name": "stdout",
     "output_type": "stream",
     "text": [
      "[{'Age': '23', 'Name': 'Ranj', 'State': 'Bihar'},\n",
      " {'Age': '44', 'Name': 'Jais', 'State': 'UP'},\n",
      " {'Age': '29', 'Name': 'Annu', 'State': 'Delhi'},\n",
      " {'Age': '35', 'Name': 'Sris', 'State': 'Haryana'}]\n"
     ]
    }
   ],
   "source": [
    "import pprint\n",
    "\n",
    "dct_arr = [\n",
    "  {'Name': 'Ranj', 'Age': '23', 'State': 'Bihar'},\n",
    "  {'Name': 'Jais', 'Age': '44', 'State': 'UP'},\n",
    "  {'Name': 'Annu', 'Age': '29', 'State': 'Delhi'},\n",
    "  {'Name': 'Sris', 'Age': '35', 'State': 'Haryana'}\n",
    "]\n",
    "\n",
    "pprint.pprint(dct_arr)"
   ]
  }
 ],
 "metadata": {
  "kernelspec": {
   "display_name": "Python 3",
   "language": "python",
   "name": "python3"
  },
  "language_info": {
   "codemirror_mode": {
    "name": "ipython",
    "version": 3
   },
   "file_extension": ".py",
   "mimetype": "text/x-python",
   "name": "python",
   "nbconvert_exporter": "python",
   "pygments_lexer": "ipython3",
   "version": "3.8.5"
  }
 },
 "nbformat": 4,
 "nbformat_minor": 4
}
